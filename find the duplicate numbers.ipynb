{
  "cells": [
    {
      "cell_type": "code",
      "source": [
        "# Find the duplicate number\n",
        "\n",
        "numbers = [2, 66, 7 , 9, 12, 15, 7, 9]\n",
        "\n",
        "duplicate = 0\n",
        "\n",
        "my_list = []\n",
        "\n",
        "for number in numbers:\n",
        "    if number in my_list:\n",
        "        duplicate = number\n",
        "        print(duplicate)\n",
        "    else:\n",
        "        my_list.append(number)\n",
        "\n",
        "print(numbers)\n",
        "\n",
        "print(my_list)\n",
        ""
      ],
      "metadata": {
        "colab": {
          "base_uri": "https://localhost:8080/"
        },
        "id": "GHmTFF0P38cn",
        "outputId": "e5f2fee0-c79c-40b1-8d65-5d104159eb46"
      },
      "execution_count": 10,
      "outputs": [
        {
          "output_type": "stream",
          "name": "stdout",
          "text": [
            "7\n",
            "9\n",
            "[2, 66, 7, 9, 12, 15, 7, 9]\n",
            "[2, 66, 7, 9, 12, 15]\n"
          ]
        }
      ]
    }
  ],
  "metadata": {
    "colab": {
      "name": "Welcome to Colaboratory",
      "provenance": []
    },
    "kernelspec": {
      "display_name": "Python 3",
      "name": "python3"
    }
  },
  "nbformat": 4,
  "nbformat_minor": 0
}